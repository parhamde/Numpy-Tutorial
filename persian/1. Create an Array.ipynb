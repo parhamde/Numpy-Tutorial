{
 "cells": [
  {
   "cell_type": "code",
   "execution_count": 1,
   "id": "01a9fe4d",
   "metadata": {},
   "outputs": [],
   "source": [
    "import numpy as np"
   ]
  },
  {
   "cell_type": "markdown",
   "id": "cda468f7",
   "metadata": {},
   "source": [
    "#### =============================================================================\n",
    "### مقدمه: کار با آرایه‌های <span dir=\"ltr\">NumPy</span>\n",
    "#### =============================================================================\n",
    " <span dir=\"ltr\">NumPy</span> یک کتابخانه کلیدی در پایتون برای محاسبات عددی است که آرایه‌های چندبعدی <span dir=\"ltr\">(ndarray)</span>\n",
    " و عملیات سریع روی آن‌ها را فراهم می‌کند. آرایه‌های  <span dir=\"ltr\">NumPy</span> نسبت به لیست‌های پایتون:\n",
    " - از حافظه پیوسته استفاده می‌کنند (بهینه‌تر برای پردازش).\n",
    " - نوع داده ثابت دارند (مانند  <span dir=\"ltr\">int32</span>،<span dir=\"ltr\">float64</span> ).\n",
    " - عملیات برداری‌شده <span dir=\"ltr\">(vectorized)</span> را پشتیبانی می‌کنند که سرعت را افزایش می‌دهد.\n",
    " این اسکریپت روش‌های مختلف ایجاد آرایه‌ها را با توضیحات جامع و مثال‌های کاربردی بررسی می‌کند.\n",
    "\n",
    "#### =============================================================================\n",
    "### 1. ایجاد آرایه از اشیاء قابل تکرار <span dir=\"ltr\">(Iterable)</span>\n",
    "#### =============================================================================\n",
    "تابع <span dir=\"ltr\">np.array</span> اشیاء قابل تکرار مانند لیست، تاپل، یا محدوده را به آرایه تبدیل می‌کند.\n",
    " نکته: ساختارهایی مانند set و dict به دلیل عدم ترتیب، مستقیماً پشتیبانی نمی‌شوند."
   ]
  },
  {
   "cell_type": "code",
   "execution_count": 2,
   "id": "df4a173a",
   "metadata": {},
   "outputs": [
    {
     "name": "stdout",
     "output_type": "stream",
     "text": [
      "آرایه از لیست: [1 2 3 4 5]\n"
     ]
    }
   ],
   "source": [
    "# 1.1. از لیست\n",
    "arr_list = np.array([1, 2, 3, 4, 5])\n",
    "print(\"آرایه از لیست:\", arr_list)"
   ]
  },
  {
   "cell_type": "markdown",
   "id": "96dd7f2c",
   "metadata": {},
   "source": [
    "### خروجی: [1 2 3 4 5]\n",
    "توضیح: لیست به آرایه یک‌بعدی با نوع داده پیش‌فرض (معمولاً <span dir=\"ltr\">int64</span>) تبدیل می‌شود.\n",
    " کاربرد: تبدیل داده‌های خام (مثل لیست اعداد حسگرها) به آرایه برای پردازش."
   ]
  }
 ],
 "metadata": {
  "kernelspec": {
   "display_name": "Python 3",
   "language": "python",
   "name": "python3"
  },
  "language_info": {
   "codemirror_mode": {
    "name": "ipython",
    "version": 3
   },
   "file_extension": ".py",
   "mimetype": "text/x-python",
   "name": "python",
   "nbconvert_exporter": "python",
   "pygments_lexer": "ipython3",
   "version": "3.11.9"
  }
 },
 "nbformat": 4,
 "nbformat_minor": 5
}

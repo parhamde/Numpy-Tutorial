{
 "cells": [
  {
   "cell_type": "markdown",
   "id": "5f75cb7f",
   "metadata": {},
   "source": [
    "اول از همه کتابخانه های لازم را فرا می خوانیم"
   ]
  },
  {
   "cell_type": "code",
   "execution_count": 1,
   "id": "522a22db",
   "metadata": {},
   "outputs": [],
   "source": [
    "import numpy as np\n",
    "import pandas as pd"
   ]
  },
  {
   "cell_type": "markdown",
   "id": "9ba48860",
   "metadata": {},
   "source": [
    "# انواع داده در <span dir=\"ltr\">NumPy</span>\n",
    "\n",
    "<span dir=\"ltr\">NumPy</span> از انواع داده زیر پشتیبانی می‌کنه:\n",
    "\n",
    "- **int**: اعداد صحیح\n",
    "- **float**: اعداد اعشاری\n",
    "- **complex**: اعداد مختلط\n",
    "- **bool**: مقادیر بولی (درست/غلط)\n",
    "- **string**: رشته‌ها\n",
    "- **unicode**: رشته‌های یونیکد\n",
    "- **object**: اشیاء\n",
    "\n",
    "انواع داده‌های عددی می‌تونن دقت‌های مختلفی مثل 32 بیتی یا 64 بیتی داشته باشن.\n",
    "\n",
    "انواع داده در <span dir=\"ltr\">NumPy</span> رو می‌شه با استفاده از **نام نوع** یا **کد نوع** نمایش داد."
   ]
  },
  {
   "cell_type": "code",
   "execution_count": 3,
   "id": "e926d6c2",
   "metadata": {},
   "outputs": [
    {
     "data": {
      "text/html": [
       "<div>\n",
       "<style scoped>\n",
       "    .dataframe tbody tr th:only-of-type {\n",
       "        vertical-align: middle;\n",
       "    }\n",
       "\n",
       "    .dataframe tbody tr th {\n",
       "        vertical-align: top;\n",
       "    }\n",
       "\n",
       "    .dataframe thead th {\n",
       "        text-align: right;\n",
       "    }\n",
       "</style>\n",
       "<table border=\"1\" class=\"dataframe\">\n",
       "  <thead>\n",
       "    <tr style=\"text-align: right;\">\n",
       "      <th></th>\n",
       "      <th>Type</th>\n",
       "      <th>Type Code</th>\n",
       "    </tr>\n",
       "  </thead>\n",
       "  <tbody>\n",
       "    <tr>\n",
       "      <th>0</th>\n",
       "      <td>int8</td>\n",
       "      <td>i1</td>\n",
       "    </tr>\n",
       "    <tr>\n",
       "      <th>1</th>\n",
       "      <td>uint8</td>\n",
       "      <td>u1</td>\n",
       "    </tr>\n",
       "    <tr>\n",
       "      <th>2</th>\n",
       "      <td>int16</td>\n",
       "      <td>i2</td>\n",
       "    </tr>\n",
       "    <tr>\n",
       "      <th>3</th>\n",
       "      <td>uint16</td>\n",
       "      <td>u2</td>\n",
       "    </tr>\n",
       "    <tr>\n",
       "      <th>4</th>\n",
       "      <td>int or int32</td>\n",
       "      <td>i4 or i</td>\n",
       "    </tr>\n",
       "    <tr>\n",
       "      <th>5</th>\n",
       "      <td>uint32</td>\n",
       "      <td>u4</td>\n",
       "    </tr>\n",
       "    <tr>\n",
       "      <th>6</th>\n",
       "      <td>int64</td>\n",
       "      <td>i8</td>\n",
       "    </tr>\n",
       "    <tr>\n",
       "      <th>7</th>\n",
       "      <td>uint64</td>\n",
       "      <td>u8</td>\n",
       "    </tr>\n",
       "    <tr>\n",
       "      <th>8</th>\n",
       "      <td>float16</td>\n",
       "      <td>f2</td>\n",
       "    </tr>\n",
       "    <tr>\n",
       "      <th>9</th>\n",
       "      <td>float32</td>\n",
       "      <td>f4 or f</td>\n",
       "    </tr>\n",
       "    <tr>\n",
       "      <th>10</th>\n",
       "      <td>float or float64</td>\n",
       "      <td>f8 or d</td>\n",
       "    </tr>\n",
       "    <tr>\n",
       "      <th>11</th>\n",
       "      <td>float128</td>\n",
       "      <td>f16 or g</td>\n",
       "    </tr>\n",
       "    <tr>\n",
       "      <th>12</th>\n",
       "      <td>complex64</td>\n",
       "      <td>c8</td>\n",
       "    </tr>\n",
       "    <tr>\n",
       "      <th>13</th>\n",
       "      <td>complex or complex128</td>\n",
       "      <td>c16</td>\n",
       "    </tr>\n",
       "    <tr>\n",
       "      <th>14</th>\n",
       "      <td>bool</td>\n",
       "      <td>None</td>\n",
       "    </tr>\n",
       "    <tr>\n",
       "      <th>15</th>\n",
       "      <td>object</td>\n",
       "      <td>O</td>\n",
       "    </tr>\n",
       "    <tr>\n",
       "      <th>16</th>\n",
       "      <td>string_</td>\n",
       "      <td>S</td>\n",
       "    </tr>\n",
       "    <tr>\n",
       "      <th>17</th>\n",
       "      <td>unicode_</td>\n",
       "      <td>U</td>\n",
       "    </tr>\n",
       "  </tbody>\n",
       "</table>\n",
       "</div>"
      ],
      "text/plain": [
       "                     Type Type Code\n",
       "0                    int8        i1\n",
       "1                   uint8        u1\n",
       "2                   int16        i2\n",
       "3                  uint16        u2\n",
       "4            int or int32   i4 or i\n",
       "5                  uint32        u4\n",
       "6                   int64        i8\n",
       "7                  uint64        u8\n",
       "8                 float16        f2\n",
       "9                 float32   f4 or f\n",
       "10       float or float64   f8 or d\n",
       "11               float128  f16 or g\n",
       "12              complex64        c8\n",
       "13  complex or complex128       c16\n",
       "14                   bool      None\n",
       "15                 object         O\n",
       "16                string_         S\n",
       "17               unicode_         U"
      ]
     },
     "execution_count": 3,
     "metadata": {},
     "output_type": "execute_result"
    }
   ],
   "source": [
    "dtypes = pd.DataFrame(\n",
    "    {\n",
    "        'Type': [\n",
    "            'int8', \n",
    "            'uint8', \n",
    "            'int16', \n",
    "            'uint16', \n",
    "            'int or int32', \n",
    "            'uint32', \n",
    "            'int64', \n",
    "            'uint64', \n",
    "            'float16', \n",
    "            'float32', \n",
    "            'float or float64',\n",
    "            'float128', \n",
    "            'complex64', \n",
    "            'complex or complex128', \n",
    "            'bool', \n",
    "            'object', \n",
    "            'string_',\n",
    "            'unicode_',\n",
    "        ],\n",
    "\n",
    "\n",
    "                'Type Code': [\n",
    "            'i1', \n",
    "            'u1', \n",
    "            'i2', \n",
    "            'u2', \n",
    "            'i4 or i', \n",
    "            'u4', \n",
    "            'i8', \n",
    "            'u8', \n",
    "            'f2', \n",
    "            'f4 or f', \n",
    "            'f8 or d', \n",
    "            'f16 or g', \n",
    "            'c8', \n",
    "            'c16', \n",
    "            None, \n",
    "            'O', \n",
    "            'S', \n",
    "            'U',\n",
    "        ]\n",
    "    }\n",
    ")\n",
    "\n",
    "dtypes"
   ]
  },
  {
   "cell_type": "markdown",
   "id": "0d9e1e99",
   "metadata": {},
   "source": [
    "انواع داده ها را می توان در ایجاد آرایه <span dir=\"ltr\">NumPy</span> تعریف کرد و بعدا به انواع دیگر تبدیل کرد\n",
    "\n",
    "برای تعریف نوع داده آرایه می توانید از روش های نوع ,نوع کد یا <span dir=\"ltr\">np dot</span> استفاده کنید , اما وقتی از روش <span dir=\"ltr\">np dot</span> برای تعریف نوع داده استفاده می کنید , این روش فقط می تواند به جای تایپ کد , از نوع پیروی کند"
   ]
  },
  {
   "cell_type": "code",
   "execution_count": 4,
   "id": "0fada120",
   "metadata": {},
   "outputs": [
    {
     "data": {
      "text/plain": [
       "dtype('float32')"
      ]
     },
     "execution_count": 4,
     "metadata": {},
     "output_type": "execute_result"
    }
   ],
   "source": [
    "arr = np.array([1,2,3], dtype='f4')\n",
    "arr.dtype"
   ]
  },
  {
   "cell_type": "code",
   "execution_count": 5,
   "id": "695307c0",
   "metadata": {},
   "outputs": [
    {
     "data": {
      "text/plain": [
       "dtype('float32')"
      ]
     },
     "execution_count": 5,
     "metadata": {},
     "output_type": "execute_result"
    }
   ],
   "source": [
    "# مشابه موارد فوق\n",
    "rr = np.array([1,2,3], dtype='float32')\n",
    "arr.dtype"
   ]
  },
  {
   "cell_type": "code",
   "execution_count": 6,
   "id": "b8cdfdb5",
   "metadata": {},
   "outputs": [
    {
     "data": {
      "text/plain": [
       "dtype('complex64')"
      ]
     },
     "execution_count": 6,
     "metadata": {},
     "output_type": "execute_result"
    }
   ],
   "source": [
    "\n",
    "arr = np.array([1+2j, 3-4j], dtype=np.complex64)\n",
    "arr.dtype"
   ]
  },
  {
   "cell_type": "code",
   "execution_count": 7,
   "id": "ad8ef7e3",
   "metadata": {},
   "outputs": [
    {
     "data": {
      "text/plain": [
       "dtype('complex64')"
      ]
     },
     "execution_count": 7,
     "metadata": {},
     "output_type": "execute_result"
    }
   ],
   "source": [
    "# مشابه موارد فوق\n",
    "arr = np.array([1+2j, 3-4j], dtype='c8')\n",
    "arr.dtype"
   ]
  },
  {
   "cell_type": "code",
   "execution_count": 8,
   "id": "16d6bd70",
   "metadata": {},
   "outputs": [
    {
     "ename": "AttributeError",
     "evalue": "module 'numpy' has no attribute 'c8'",
     "output_type": "error",
     "traceback": [
      "\u001b[1;31m---------------------------------------------------------------------------\u001b[0m",
      "\u001b[1;31mAttributeError\u001b[0m                            Traceback (most recent call last)",
      "Cell \u001b[1;32mIn[8], line 2\u001b[0m\n\u001b[0;32m      1\u001b[0m \u001b[38;5;66;03m# خطا\u001b[39;00m\n\u001b[1;32m----> 2\u001b[0m arr \u001b[38;5;241m=\u001b[39m np\u001b[38;5;241m.\u001b[39marray([\u001b[38;5;241m1\u001b[39m\u001b[38;5;241m+\u001b[39m\u001b[38;5;241m2\u001b[39mj, \u001b[38;5;241m3\u001b[39m\u001b[38;5;241m-\u001b[39m\u001b[38;5;241m4\u001b[39mj], dtype\u001b[38;5;241m=\u001b[39m\u001b[43mnp\u001b[49m\u001b[38;5;241;43m.\u001b[39;49m\u001b[43mc8\u001b[49m)\n\u001b[0;32m      3\u001b[0m arr\u001b[38;5;241m.\u001b[39mdtype\n",
      "File \u001b[1;32mc:\\Users\\IraniaN\\AppData\\Local\\Programs\\Python\\Python311\\Lib\\site-packages\\numpy\\__init__.py:347\u001b[0m, in \u001b[0;36m__getattr__\u001b[1;34m(attr)\u001b[0m\n\u001b[0;32m    344\u001b[0m     \u001b[38;5;124m\"\u001b[39m\u001b[38;5;124mRemoved in NumPy 1.25.0\u001b[39m\u001b[38;5;124m\"\u001b[39m\n\u001b[0;32m    345\u001b[0m     \u001b[38;5;28;01mraise\u001b[39;00m \u001b[38;5;167;01mRuntimeError\u001b[39;00m(\u001b[38;5;124m\"\u001b[39m\u001b[38;5;124mTester was removed in NumPy 1.25.\u001b[39m\u001b[38;5;124m\"\u001b[39m)\n\u001b[1;32m--> 347\u001b[0m \u001b[38;5;28;01mraise\u001b[39;00m \u001b[38;5;167;01mAttributeError\u001b[39;00m(\u001b[38;5;124m\"\u001b[39m\u001b[38;5;124mmodule \u001b[39m\u001b[38;5;132;01m{!r}\u001b[39;00m\u001b[38;5;124m has no attribute \u001b[39m\u001b[38;5;124m\"\u001b[39m\n\u001b[0;32m    348\u001b[0m                      \u001b[38;5;124m\"\u001b[39m\u001b[38;5;132;01m{!r}\u001b[39;00m\u001b[38;5;124m\"\u001b[39m\u001b[38;5;241m.\u001b[39mformat(\u001b[38;5;18m__name__\u001b[39m, attr))\n",
      "\u001b[1;31mAttributeError\u001b[0m: module 'numpy' has no attribute 'c8'"
     ]
    }
   ],
   "source": [
    "# خطا\n",
    "arr = np.array([1+2j, 3-4j], dtype=np.c8)\n",
    "arr.dtype"
   ]
  },
  {
   "cell_type": "markdown",
   "id": "31cdbc97",
   "metadata": {},
   "source": [
    "# تبدیل نوع داده در <span dir=\"ltr\">NumPy</span>\n",
    "\n",
    "<span dir=\"ltr\">astype method</span>: برای تبدیل نوع داده یک آرایه به انواع داده دیگر استفاده می‌شه.\n",
    "\n",
    "توجه کنید که <span dir=\"ltr\">astype</span> یک کپی از آرایه برمی‌گردونه و نوع داده رو به‌صورت مستقیم تغییر نمی‌ده. باید کپی رو به آرایه اصلی یا یک آرایه جدید اختصاص بدید."
   ]
  },
  {
   "cell_type": "code",
   "execution_count": 15,
   "id": "e25408f7",
   "metadata": {},
   "outputs": [
    {
     "name": "stdout",
     "output_type": "stream",
     "text": [
      "نوع داده اصلی: int16\n",
      "نوع داده پس از تبدیل: float32\n"
     ]
    }
   ],
   "source": [
    "arr = np.array([1,2,3], dtype='int16')\n",
    "print('نوع داده اصلی: ' + str(arr.dtype))\n",
    "\n",
    "arr = arr.astype(np.float32)\n",
    "print('نوع داده پس از تبدیل: ' + str(arr.dtype))"
   ]
  },
  {
   "cell_type": "markdown",
   "id": "9f4714b2",
   "metadata": {},
   "source": [
    "# هشدار\n",
    "\n",
    "هنگام کاهش دقت نوع داده (از دقت بالاتر به دقت پایین‌تر) مراقب سرریز داده باشید. ممکنه مقادیر غیرمنتظره و نامعتبری به وجود بیاد که معمولاً دیباگ کردن این مشکلات سخته."
   ]
  },
  {
   "cell_type": "code",
   "execution_count": 13,
   "id": "39c16ad5",
   "metadata": {},
   "outputs": [
    {
     "name": "stdout",
     "output_type": "stream",
     "text": [
      "آرایه np قبل از تبدیل نوع: [126 127 256]\n"
     ]
    }
   ],
   "source": [
    "# نمونه ای از سرریز اعداد صحیح در downcasting\n",
    "arr = np.array([126,127,256], dtype='int16')\n",
    "print('آرایه np قبل از تبدیل نوع: ' + str(arr))\n"
   ]
  },
  {
   "cell_type": "code",
   "execution_count": 14,
   "id": "453b8f00",
   "metadata": {},
   "outputs": [
    {
     "name": "stdout",
     "output_type": "stream",
     "text": [
      "آرایه np بعد از تبدیل نوع: [126 127   0]\n"
     ]
    }
   ],
   "source": [
    "# محدوده int8 [-128، 127]، 256 سرریز پس از تبدیل\n",
    "arr = arr.astype('int8')\n",
    "print('آرایه np بعد از تبدیل نوع: ' + str(arr))"
   ]
  },
  {
   "cell_type": "markdown",
   "id": "5ece3601",
   "metadata": {},
   "source": [
    "# انواع داده رشته‌ای و یونیکد در <span dir=\"ltr\">NumPy</span>\n",
    "\n",
    "انواع داده <span dir=\"ltr\">string_</span> و <span dir=\"ltr\">unicode_</span> همگی به‌صورت ضمنی دارای طول ثابت هستند.\n",
    "\n",
    "طول رشته با کد نوع اون‌ها به همراه یک عدد مشخص می‌شه. برای مثال، <span dir=\"ltr\">S3</span> نشان‌دهنده رشته‌ای با طول ۳ و <span dir=\"ltr\">U10</span> نشان‌دهنده یونیکد با طول ۱۰ هست. در غیر این صورت، طول پیش‌فرض برابر با طول بلندترین رشته در آرایه خواهد بود.\n",
    "\n",
    "اگه طول یک رشته در آرایه کوتاه‌تر از طول نوع داده تعریف‌شده یا تبدیل‌شده باشه، رشته کوتاه می‌شه (بریده می‌شه)."
   ]
  },
  {
   "cell_type": "code",
   "execution_count": 12,
   "id": "11eefd76",
   "metadata": {},
   "outputs": [
    {
     "name": "stdout",
     "output_type": "stream",
     "text": [
      "[b'abc' b'def']\n",
      "['abc' 'efg']\n"
     ]
    }
   ],
   "source": [
    "# نمونه ای از رشته کوتاه شده\n",
    "s = np.array(['abc', 'defg'], dtype='S3')\n",
    "print(s)\n",
    "\n",
    "# An example of truncated unicode\n",
    "s = np.array(['abcd', 'efghi'], dtype='U3')\n",
    "print(s)"
   ]
  },
  {
   "cell_type": "code",
   "execution_count": 17,
   "id": "de095fd6",
   "metadata": {},
   "outputs": [
    {
     "name": "stdout",
     "output_type": "stream",
     "text": [
      "آرایه هست [b'a' b'ab' b'abc']\n",
      "نوع داده هست |S3زیرا طولانی ترین رشته آرایه \"abc\" و طول آن 3 است.\n",
      "آرایه هست ['a' 'abc' 'abcd']\n",
      "نوع داده هست <U4زیرا طولانی ترین یونیکد آرایه \"abcd\" و طول آن 4 است. \n"
     ]
    }
   ],
   "source": [
    "\n",
    "arr = np.array(['a', 'ab', 'abc'], dtype=np.string_)\n",
    "print('آرایه هست ' + str(arr))\n",
    "print('نوع داده هست ' + str(arr.dtype) + 'زیرا طولانی ترین رشته آرایه \"abc\" و طول آن 3 است.')\n",
    "\n",
    "arr = np.array(['a', 'abc', 'abcd'], dtype=np.unicode_)\n",
    "print('آرایه هست ' + str(arr))\n",
    "print('نوع داده هست ' + str(arr.dtype) + 'زیرا طولانی ترین یونیکد آرایه \"abcd\" و طول آن 4 است. ')"
   ]
  },
  {
   "cell_type": "markdown",
   "id": "e1a12447",
   "metadata": {},
   "source": [
    "# نشانگرهای ترتیب بایت در <span dir=\"ltr\">NumPy</span>\n",
    "\n",
    "نمادهای <span dir=\"ltr\">|</span> و <span dir=\"ltr\"><</span> در انواع داده نشانگرهای ترتیب بایت هستند که خارج از محدوده این آموزش قرار دارند.\n",
    "\n",
    "در صورت علاقه به اطلاعات بیشتر: [لطفاً منبع یا لینک مرتبط را اضافه کنید]"
   ]
  }
 ],
 "metadata": {
  "kernelspec": {
   "display_name": "Python 3",
   "language": "python",
   "name": "python3"
  },
  "language_info": {
   "codemirror_mode": {
    "name": "ipython",
    "version": 3
   },
   "file_extension": ".py",
   "mimetype": "text/x-python",
   "name": "python",
   "nbconvert_exporter": "python",
   "pygments_lexer": "ipython3",
   "version": "3.11.9"
  }
 },
 "nbformat": 4,
 "nbformat_minor": 5
}
